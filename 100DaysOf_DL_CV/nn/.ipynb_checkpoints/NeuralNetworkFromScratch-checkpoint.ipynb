{
 "cells": [
  {
   "cell_type": "code",
   "execution_count": 1,
   "metadata": {},
   "outputs": [],
   "source": [
    "import numpy as np "
   ]
  },
  {
   "cell_type": "code",
   "execution_count": 27,
   "metadata": {},
   "outputs": [],
   "source": [
    "layers = [2,2,1] \n",
    "alpha = 0.01\n",
    "W = []"
   ]
  },
  {
   "cell_type": "code",
   "execution_count": 28,
   "metadata": {},
   "outputs": [],
   "source": [
    "for i in np.arange(0, len(layers)-2):\n",
    "    w = np.random.randn(layers[i]+1, layers[i+1]+1)\n",
    "    W.append(w / np.sqrt(layers[i]))\n",
    "            # the last two layers are a special case where the input\n",
    "            # connections need a bias term but the output does not\n",
    "    w = np.random.randn(layers[-2]+1, layers[-1])\n",
    "    W.append(w / np.sqrt(layers[-2]))\n",
    "    "
   ]
  },
  {
   "cell_type": "code",
   "execution_count": 31,
   "metadata": {},
   "outputs": [
    {
     "data": {
      "text/plain": [
       "1"
      ]
     },
     "execution_count": 31,
     "metadata": {},
     "output_type": "execute_result"
    }
   ],
   "source": [
    "layers[-1]"
   ]
  },
  {
   "cell_type": "code",
   "execution_count": 17,
   "metadata": {},
   "outputs": [
    {
     "data": {
      "text/plain": [
       "3"
      ]
     },
     "execution_count": 17,
     "metadata": {},
     "output_type": "execute_result"
    }
   ],
   "source": [
    "layers[1]+1"
   ]
  },
  {
   "cell_type": "code",
   "execution_count": 52,
   "metadata": {},
   "outputs": [],
   "source": [
    "def sigmoid( x):\n",
    "    return 1.0 / (1 + np.exp(-x))\n",
    "def sigmoid_deriv( x):\n",
    "    return x * (1 - x)"
   ]
  },
  {
   "cell_type": "code",
   "execution_count": 58,
   "metadata": {},
   "outputs": [],
   "source": [
    "X = np.array([[0,0], [0,1], [1,0], [1,1]])\n",
    "y = np.array([[0], [1], [1], [0]]) \n",
    "X = np.c_[X, np.ones((X.shape[0]))]\n",
    "A = [np.atleast_2d(X)]"
   ]
  },
  {
   "cell_type": "code",
   "execution_count": 95,
   "metadata": {},
   "outputs": [
    {
     "name": "stdout",
     "output_type": "stream",
     "text": [
      "[array([[0., 0., 1.],\n",
      "       [0., 1., 1.],\n",
      "       [1., 0., 1.],\n",
      "       [1., 1., 1.]]), array([[0.72199623, 0.5717353 , 0.41975545],\n",
      "       [0.57919827, 0.85126057, 0.46638336],\n",
      "       [0.68108079, 0.65657855, 0.40175595],\n",
      "       [0.53092073, 0.89125952, 0.44792792]]), array([[0.17060161],\n",
      "       [0.15102027],\n",
      "       [0.17067289],\n",
      "       [0.15595176]])]\n"
     ]
    },
    {
     "data": {
      "text/plain": [
       "2"
      ]
     },
     "execution_count": 95,
     "metadata": {},
     "output_type": "execute_result"
    }
   ],
   "source": [
    "print(A)\n",
    "len(W)"
   ]
  },
  {
   "cell_type": "code",
   "execution_count": 61,
   "metadata": {},
   "outputs": [
    {
     "name": "stdout",
     "output_type": "stream",
     "text": [
      "[[0.72199623 0.5717353  0.41975545]\n",
      " [0.57919827 0.85126057 0.46638336]\n",
      " [0.68108079 0.65657855 0.40175595]\n",
      " [0.53092073 0.89125952 0.44792792]]\n",
      "[[0.17060161]\n",
      " [0.15102027]\n",
      " [0.17067289]\n",
      " [0.15595176]]\n"
     ]
    }
   ],
   "source": [
    "for l in np.arange(0, len(W)):\n",
    "    #print(l)\n",
    "    #print(A[l])\n",
    "    #print(W[l])\n",
    "    net = A[l].dot(W[l])\n",
    "    #print(net)\n",
    "    out = sigmoid(net)\n",
    "    print(out)\n",
    "    A.append(out)\n",
    "#print(A)"
   ]
  },
  {
   "cell_type": "code",
   "execution_count": 94,
   "metadata": {},
   "outputs": [
    {
     "data": {
      "text/plain": [
       "3"
      ]
     },
     "execution_count": 94,
     "metadata": {},
     "output_type": "execute_result"
    }
   ],
   "source": [
    "len(A)"
   ]
  },
  {
   "cell_type": "code",
   "execution_count": 63,
   "metadata": {},
   "outputs": [],
   "source": [
    "error = A[-1]- y"
   ]
  },
  {
   "cell_type": "code",
   "execution_count": 78,
   "metadata": {},
   "outputs": [],
   "source": [
    "D = [error * sigmoid_deriv(A[-1])]"
   ]
  },
  {
   "cell_type": "code",
   "execution_count": 79,
   "metadata": {},
   "outputs": [
    {
     "data": {
      "text/plain": [
       "[array([[ 0.02413957],\n",
       "        [-0.10885037],\n",
       "        [-0.11738599],\n",
       "        [ 0.02052806]])]"
      ]
     },
     "execution_count": 79,
     "metadata": {},
     "output_type": "execute_result"
    }
   ],
   "source": [
    "D"
   ]
  },
  {
   "cell_type": "code",
   "execution_count": 80,
   "metadata": {},
   "outputs": [],
   "source": [
    "for l in np.arange(len(A)-2,0,-1):\n",
    "    delta = D[-1].dot(W[l].T)\n",
    "    delta = delta * sigmoid_deriv(A[l])\n",
    "    D.append(delta)"
   ]
  },
  {
   "cell_type": "code",
   "execution_count": 81,
   "metadata": {},
   "outputs": [
    {
     "data": {
      "text/plain": [
       "[array([[ 0.02413957],\n",
       "        [-0.10885037],\n",
       "        [-0.11738599],\n",
       "        [ 0.02052806]]), array([[-0.00389272, -0.0040701 , -0.00851073],\n",
       "        [ 0.02131438,  0.00949044,  0.03921318],\n",
       "        [ 0.02048489,  0.0182263 ,  0.0408401 ],\n",
       "        [-0.00410735, -0.00136997, -0.00734821]])]"
      ]
     },
     "execution_count": 81,
     "metadata": {},
     "output_type": "execute_result"
    }
   ],
   "source": [
    "D"
   ]
  },
  {
   "cell_type": "code",
   "execution_count": 84,
   "metadata": {},
   "outputs": [],
   "source": [
    "D = D[::-1]"
   ]
  },
  {
   "cell_type": "code",
   "execution_count": 93,
   "metadata": {},
   "outputs": [
    {
     "name": "stdout",
     "output_type": "stream",
     "text": [
      "[array([[-0.00389272, -0.0040701 , -0.00851073],\n",
      "       [ 0.02131438,  0.00949044,  0.03921318],\n",
      "       [ 0.02048489,  0.0182263 ,  0.0408401 ],\n",
      "       [-0.00410735, -0.00136997, -0.00734821]]), array([[ 0.02413957],\n",
      "       [-0.10885037],\n",
      "       [-0.11738599],\n",
      "       [ 0.02052806]])]\n",
      "*****\n",
      "[[0.72199623 0.5717353  0.41975545]\n",
      " [0.57919827 0.85126057 0.46638336]\n",
      " [0.68108079 0.65657855 0.40175595]\n",
      " [0.53092073 0.89125952 0.44792792]]\n",
      "*****\n",
      "2\n"
     ]
    }
   ],
   "source": [
    "print(D)\n",
    "print(\"*****\")\n",
    "print(A[1])\n",
    "print(\"*****\")\n",
    "#print(D[0])\n",
    "#print(A[0].T.dot(D[0]))\n",
    "print(len(D))"
   ]
  },
  {
   "cell_type": "code",
   "execution_count": 90,
   "metadata": {},
   "outputs": [],
   "source": [
    "for l in np.arange(0, len(W)):\n",
    "    W[l] += -alpha * A[l].T.dot(D[l])"
   ]
  },
  {
   "cell_type": "code",
   "execution_count": 91,
   "metadata": {},
   "outputs": [
    {
     "data": {
      "text/plain": [
       "[array([[-0.19580593,  0.35898069, -0.07471149],\n",
       "        [-0.63507424,  1.45550644,  0.18878902],\n",
       "        [ 0.95404727,  0.28871189, -0.32441932]]), array([[-0.80226466],\n",
       "        [-0.68722526],\n",
       "        [-1.4467514 ]])]"
      ]
     },
     "execution_count": 91,
     "metadata": {},
     "output_type": "execute_result"
    }
   ],
   "source": [
    "W"
   ]
  },
  {
   "cell_type": "code",
   "execution_count": null,
   "metadata": {},
   "outputs": [],
   "source": []
  }
 ],
 "metadata": {
  "kernelspec": {
   "display_name": "Python 3",
   "language": "python",
   "name": "python3"
  },
  "language_info": {
   "codemirror_mode": {
    "name": "ipython",
    "version": 3
   },
   "file_extension": ".py",
   "mimetype": "text/x-python",
   "name": "python",
   "nbconvert_exporter": "python",
   "pygments_lexer": "ipython3",
   "version": "3.7.3"
  }
 },
 "nbformat": 4,
 "nbformat_minor": 2
}
